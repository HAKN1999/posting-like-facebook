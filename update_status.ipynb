{
 "cells": [
  {
   "cell_type": "code",
   "execution_count": null,
   "metadata": {},
   "outputs": [],
   "source": [
    "from selenium.webdriver.support.expected_conditions import alert_is_present\n",
    "from selenium.webdriver.chrome.options import Options\n",
    "from selenium import webdriver\n",
    "from time import sleep\n",
    "import time\n",
    "import os\n",
    "\n",
    "\n",
    "\n",
    "\n",
    "chrome_options = Options()\n",
    "chrome_options.add_argument(\"--disable-notifications\")\n",
    "\n",
    "path = os.getcwd()\n",
    "url = \"https://www.facebook.com\"\n",
    "\n",
    "driver = webdriver.Chrome(\n",
    "    executable_path=r\"{path}/chromedriver\".format(path=path), chrome_options=chrome_options)\n"
   ]
  },
  {
   "cell_type": "code",
   "execution_count": null,
   "metadata": {
    "scrolled": false
   },
   "outputs": [],
   "source": [
    "def login_facebook(email, password):\n",
    "\n",
    "    driver.get(url)\n",
    "\n",
    "    sleep(5)\n",
    "    # mencari form email\n",
    "    driver.find_element_by_name(\"email\").send_keys(\n",
    "        email)\n",
    "\n",
    "    # mencari form password\n",
    "    driver.find_element_by_name(\"pass\").send_keys(password)\n",
    "\n",
    "    # mencari login button\n",
    "    driver.find_element_by_name(\"login\").click()\n",
    "    driver.implicitly_wait(5)"
   ]
  },
  {
   "cell_type": "code",
   "execution_count": null,
   "metadata": {},
   "outputs": [],
   "source": [
    "def update_status(word):\n",
    "    #  mencari form status    \n",
    "    driver.find_element_by_xpath(\"//span[@class='a8c37x1j ni8dbmo4 stjgntxs l9j0dhe7']\").click()\n",
    "    \n",
    "    # setelah berhasil di click masukkan text     \n",
    "    driver.find_element_by_xpath(\"//div[@class='rq0escxv datstx6m k4urcfbm a8c37x1j']//div[@class='_5rp7']//div[@class='_5rpb']//div[@class='notranslate _5rpu']//div//div//span\").send_keys(word)\n",
    "    \n",
    "    time.sleep(1)\n",
    "    \n",
    "    # mencari post button     \n",
    "    driver.find_element_by_xpath(\"//div[@class='oajrlxb2 s1i5eluu qu0x051f esr5mh6w e9989ue4 r7d6kgcz rq0escxv nhd2j8a9 pq6dq46d p7hjln8o kvgmc6g5 cxmmr5t8 oygrvhab hcukyx3x cxgpxx05 d1544ag0 sj5x9vvc tw6a2znq oqcyycmt esuyzwwr f1sip0of lzcic4wl l9j0dhe7 abiwlrkh p8dawk7l ehryuci6 bp9cbjyn beltcj47 p86d2i9g aot14ch1 kzx2olss rt8b4zig n8ej3o3l agehan2d sk4xxmp2 lrazzd5p gigivrx4 sf5mxxl7 g0qnabr5 lrwzeq9o iqfcb0g7 lsqurvkf id6903cd jq4qci2q m5l1wtfr taijpn5t sn7ne77z oqhjfihn bwm1u5wc']\").click()\n",
    "    \n",
    "    time.sleep(9)"
   ]
  },
  {
   "cell_type": "code",
   "execution_count": null,
   "metadata": {},
   "outputs": [],
   "source": [
    "def main():\n",
    "\n",
    "    # menjalankan program scrap quotes  \n",
    "    print(\"[*] Mengambil qoutes\")\n",
    "    os.system(\"python3 quotes.py\")\n",
    "    \n",
    "    email = \"\"\n",
    "    password = \"\"\n",
    "    \n",
    "    login_facebook(email, password)\n",
    "    \n",
    "    with open(\"quotes.txt\",'r') as f:\n",
    "        quote =f.readlines()\n",
    "        \n",
    "    for i in range(0,len(quote)):\n",
    "        update_status(quote[i])\n",
    "\n",
    "if __name__ == \"__main__\":\n",
    "    main()"
   ]
  },
  {
   "cell_type": "code",
   "execution_count": null,
   "metadata": {},
   "outputs": [],
   "source": []
  }
 ],
 "metadata": {
  "kernelspec": {
   "display_name": "Python 3",
   "language": "python",
   "name": "python3"
  },
  "language_info": {
   "codemirror_mode": {
    "name": "ipython",
    "version": 3
   },
   "file_extension": ".py",
   "mimetype": "text/x-python",
   "name": "python",
   "nbconvert_exporter": "python",
   "pygments_lexer": "ipython3",
   "version": "3.6.9"
  }
 },
 "nbformat": 4,
 "nbformat_minor": 4
}
